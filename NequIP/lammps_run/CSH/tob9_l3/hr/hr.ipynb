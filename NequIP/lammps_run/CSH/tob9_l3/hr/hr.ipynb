{
 "cells": [
  {
   "cell_type": "code",
   "execution_count": 1,
   "id": "e40f87ff-6652-4889-a443-7b2666ca6986",
   "metadata": {},
   "outputs": [],
   "source": [
    "from ase.io import read,Trajectory\n",
    "from ase.neighborlist import natural_cutoffs, NeighborList\n",
    "import torch\n",
    "import numpy as np\n",
    "from pathlib import Path\n",
    "from ase import Atoms"
   ]
  },
  {
   "cell_type": "code",
   "execution_count": 2,
   "id": "5ea648a7-3727-4745-aa49-9c50b741ffdf",
   "metadata": {},
   "outputs": [
    {
     "ename": "FileNotFoundError",
     "evalue": "[Errno 2] No such file or directory: 'simulation_300K.traj'",
     "output_type": "error",
     "traceback": [
      "\u001b[0;31m---------------------------------------------------------------------------\u001b[0m",
      "\u001b[0;31mFileNotFoundError\u001b[0m                         Traceback (most recent call last)",
      "Cell \u001b[0;32mIn[2], line 1\u001b[0m\n\u001b[0;32m----> 1\u001b[0m traj \u001b[38;5;241m=\u001b[39m \u001b[43mTrajectory\u001b[49m\u001b[43m(\u001b[49m\u001b[38;5;124;43m'\u001b[39;49m\u001b[38;5;124;43msimulation_300K.traj\u001b[39;49m\u001b[38;5;124;43m'\u001b[39;49m\u001b[43m)\u001b[49m\n\u001b[1;32m      2\u001b[0m atoms \u001b[38;5;241m=\u001b[39m traj[\u001b[38;5;241m0\u001b[39m]\n\u001b[1;32m      3\u001b[0m NL \u001b[38;5;241m=\u001b[39m NeighborList(natural_cutoffs(atoms), self_interaction\u001b[38;5;241m=\u001b[39m\u001b[38;5;28;01mFalse\u001b[39;00m)\n",
      "File \u001b[0;32m~/.local/lib/python3.8/site-packages/ase/io/trajectory.py:50\u001b[0m, in \u001b[0;36mTrajectory\u001b[0;34m(filename, mode, atoms, properties, master)\u001b[0m\n\u001b[1;32m     21\u001b[0m \u001b[38;5;250m\u001b[39m\u001b[38;5;124;03m\"\"\"A Trajectory can be created in read, write or append mode.\u001b[39;00m\n\u001b[1;32m     22\u001b[0m \n\u001b[1;32m     23\u001b[0m \u001b[38;5;124;03mParameters:\u001b[39;00m\n\u001b[0;32m   (...)\u001b[0m\n\u001b[1;32m     47\u001b[0m \u001b[38;5;124;03mThe atoms, properties and master arguments are ignores in read mode.\u001b[39;00m\n\u001b[1;32m     48\u001b[0m \u001b[38;5;124;03m\"\"\"\u001b[39;00m\n\u001b[1;32m     49\u001b[0m \u001b[38;5;28;01mif\u001b[39;00m mode \u001b[38;5;241m==\u001b[39m \u001b[38;5;124m'\u001b[39m\u001b[38;5;124mr\u001b[39m\u001b[38;5;124m'\u001b[39m:\n\u001b[0;32m---> 50\u001b[0m     \u001b[38;5;28;01mreturn\u001b[39;00m \u001b[43mTrajectoryReader\u001b[49m\u001b[43m(\u001b[49m\u001b[43mfilename\u001b[49m\u001b[43m)\u001b[49m\n\u001b[1;32m     51\u001b[0m \u001b[38;5;28;01mreturn\u001b[39;00m TrajectoryWriter(filename, mode, atoms, properties, master\u001b[38;5;241m=\u001b[39mmaster)\n",
      "File \u001b[0;32m~/.local/lib/python3.8/site-packages/ase/io/trajectory.py:225\u001b[0m, in \u001b[0;36mTrajectoryReader.__init__\u001b[0;34m(self, filename)\u001b[0m\n\u001b[1;32m    222\u001b[0m \u001b[38;5;28mself\u001b[39m\u001b[38;5;241m.\u001b[39mpbc \u001b[38;5;241m=\u001b[39m \u001b[38;5;28;01mNone\u001b[39;00m\n\u001b[1;32m    223\u001b[0m \u001b[38;5;28mself\u001b[39m\u001b[38;5;241m.\u001b[39mmasses \u001b[38;5;241m=\u001b[39m \u001b[38;5;28;01mNone\u001b[39;00m\n\u001b[0;32m--> 225\u001b[0m \u001b[38;5;28;43mself\u001b[39;49m\u001b[38;5;241;43m.\u001b[39;49m\u001b[43m_open\u001b[49m\u001b[43m(\u001b[49m\u001b[43mfilename\u001b[49m\u001b[43m)\u001b[49m\n",
      "File \u001b[0;32m~/.local/lib/python3.8/site-packages/ase/io/trajectory.py:235\u001b[0m, in \u001b[0;36mTrajectoryReader._open\u001b[0;34m(self, filename)\u001b[0m\n\u001b[1;32m    233\u001b[0m \u001b[38;5;28;01mdef\u001b[39;00m \u001b[38;5;21m_open\u001b[39m(\u001b[38;5;28mself\u001b[39m, filename):\n\u001b[1;32m    234\u001b[0m     \u001b[38;5;28;01mimport\u001b[39;00m \u001b[38;5;21;01mase\u001b[39;00m\u001b[38;5;21;01m.\u001b[39;00m\u001b[38;5;21;01mio\u001b[39;00m\u001b[38;5;21;01m.\u001b[39;00m\u001b[38;5;21;01mulm\u001b[39;00m \u001b[38;5;28;01mas\u001b[39;00m \u001b[38;5;21;01mulm\u001b[39;00m\n\u001b[0;32m--> 235\u001b[0m     \u001b[38;5;28mself\u001b[39m\u001b[38;5;241m.\u001b[39mbackend \u001b[38;5;241m=\u001b[39m \u001b[43mulm\u001b[49m\u001b[38;5;241;43m.\u001b[39;49m\u001b[43mopen\u001b[49m\u001b[43m(\u001b[49m\u001b[43mfilename\u001b[49m\u001b[43m,\u001b[49m\u001b[43m \u001b[49m\u001b[38;5;124;43m'\u001b[39;49m\u001b[38;5;124;43mr\u001b[39;49m\u001b[38;5;124;43m'\u001b[39;49m\u001b[43m)\u001b[49m\n\u001b[1;32m    236\u001b[0m     \u001b[38;5;28mself\u001b[39m\u001b[38;5;241m.\u001b[39m_read_header()\n",
      "File \u001b[0;32m~/.local/lib/python3.8/site-packages/ase/io/ulm.py:156\u001b[0m, in \u001b[0;36mopen\u001b[0;34m(filename, mode, index, tag)\u001b[0m\n\u001b[1;32m    154\u001b[0m \u001b[38;5;28;01mif\u001b[39;00m mode \u001b[38;5;241m==\u001b[39m \u001b[38;5;124m'\u001b[39m\u001b[38;5;124mr\u001b[39m\u001b[38;5;124m'\u001b[39m:\n\u001b[1;32m    155\u001b[0m     \u001b[38;5;28;01massert\u001b[39;00m tag \u001b[38;5;129;01mis\u001b[39;00m \u001b[38;5;28;01mNone\u001b[39;00m\n\u001b[0;32m--> 156\u001b[0m     \u001b[38;5;28;01mreturn\u001b[39;00m \u001b[43mReader\u001b[49m\u001b[43m(\u001b[49m\u001b[43mfilename\u001b[49m\u001b[43m,\u001b[49m\u001b[43m \u001b[49m\u001b[43mindex\u001b[49m\u001b[43m \u001b[49m\u001b[38;5;129;43;01mor\u001b[39;49;00m\u001b[43m \u001b[49m\u001b[38;5;241;43m0\u001b[39;49m\u001b[43m)\u001b[49m\n\u001b[1;32m    157\u001b[0m \u001b[38;5;28;01mif\u001b[39;00m mode \u001b[38;5;129;01mnot\u001b[39;00m \u001b[38;5;129;01min\u001b[39;00m \u001b[38;5;124m'\u001b[39m\u001b[38;5;124mwa\u001b[39m\u001b[38;5;124m'\u001b[39m:\n\u001b[1;32m    158\u001b[0m     \u001b[38;5;241m2\u001b[39m \u001b[38;5;241m/\u001b[39m \u001b[38;5;241m0\u001b[39m\n",
      "File \u001b[0;32m~/.local/lib/python3.8/site-packages/ase/io/ulm.py:477\u001b[0m, in \u001b[0;36mReader.__init__\u001b[0;34m(self, fd, index, data, _little_endian)\u001b[0m\n\u001b[1;32m    474\u001b[0m \u001b[38;5;28mself\u001b[39m\u001b[38;5;241m.\u001b[39m_little_endian \u001b[38;5;241m=\u001b[39m _little_endian\n\u001b[1;32m    476\u001b[0m \u001b[38;5;28;01mif\u001b[39;00m \u001b[38;5;129;01mnot\u001b[39;00m \u001b[38;5;28mhasattr\u001b[39m(fd, \u001b[38;5;124m'\u001b[39m\u001b[38;5;124mread\u001b[39m\u001b[38;5;124m'\u001b[39m):\n\u001b[0;32m--> 477\u001b[0m     fd \u001b[38;5;241m=\u001b[39m \u001b[43mPath\u001b[49m\u001b[43m(\u001b[49m\u001b[43mfd\u001b[49m\u001b[43m)\u001b[49m\u001b[38;5;241;43m.\u001b[39;49m\u001b[43mopen\u001b[49m\u001b[43m(\u001b[49m\u001b[38;5;124;43m'\u001b[39;49m\u001b[38;5;124;43mrb\u001b[39;49m\u001b[38;5;124;43m'\u001b[39;49m\u001b[43m)\u001b[49m\n\u001b[1;32m    479\u001b[0m \u001b[38;5;28mself\u001b[39m\u001b[38;5;241m.\u001b[39m_fd \u001b[38;5;241m=\u001b[39m fd\n\u001b[1;32m    480\u001b[0m \u001b[38;5;28mself\u001b[39m\u001b[38;5;241m.\u001b[39m_index \u001b[38;5;241m=\u001b[39m index\n",
      "File \u001b[0;32m~/anaconda3/envs/schnet/lib/python3.8/pathlib.py:1222\u001b[0m, in \u001b[0;36mPath.open\u001b[0;34m(self, mode, buffering, encoding, errors, newline)\u001b[0m\n\u001b[1;32m   1220\u001b[0m \u001b[38;5;28;01mif\u001b[39;00m \u001b[38;5;28mself\u001b[39m\u001b[38;5;241m.\u001b[39m_closed:\n\u001b[1;32m   1221\u001b[0m     \u001b[38;5;28mself\u001b[39m\u001b[38;5;241m.\u001b[39m_raise_closed()\n\u001b[0;32m-> 1222\u001b[0m \u001b[38;5;28;01mreturn\u001b[39;00m \u001b[43mio\u001b[49m\u001b[38;5;241;43m.\u001b[39;49m\u001b[43mopen\u001b[49m\u001b[43m(\u001b[49m\u001b[38;5;28;43mself\u001b[39;49m\u001b[43m,\u001b[49m\u001b[43m \u001b[49m\u001b[43mmode\u001b[49m\u001b[43m,\u001b[49m\u001b[43m \u001b[49m\u001b[43mbuffering\u001b[49m\u001b[43m,\u001b[49m\u001b[43m \u001b[49m\u001b[43mencoding\u001b[49m\u001b[43m,\u001b[49m\u001b[43m \u001b[49m\u001b[43merrors\u001b[49m\u001b[43m,\u001b[49m\u001b[43m \u001b[49m\u001b[43mnewline\u001b[49m\u001b[43m,\u001b[49m\n\u001b[1;32m   1223\u001b[0m \u001b[43m               \u001b[49m\u001b[43mopener\u001b[49m\u001b[38;5;241;43m=\u001b[39;49m\u001b[38;5;28;43mself\u001b[39;49m\u001b[38;5;241;43m.\u001b[39;49m\u001b[43m_opener\u001b[49m\u001b[43m)\u001b[49m\n",
      "File \u001b[0;32m~/anaconda3/envs/schnet/lib/python3.8/pathlib.py:1078\u001b[0m, in \u001b[0;36mPath._opener\u001b[0;34m(self, name, flags, mode)\u001b[0m\n\u001b[1;32m   1076\u001b[0m \u001b[38;5;28;01mdef\u001b[39;00m \u001b[38;5;21m_opener\u001b[39m(\u001b[38;5;28mself\u001b[39m, name, flags, mode\u001b[38;5;241m=\u001b[39m\u001b[38;5;241m0o666\u001b[39m):\n\u001b[1;32m   1077\u001b[0m     \u001b[38;5;66;03m# A stub for the opener argument to built-in open()\u001b[39;00m\n\u001b[0;32m-> 1078\u001b[0m     \u001b[38;5;28;01mreturn\u001b[39;00m \u001b[38;5;28;43mself\u001b[39;49m\u001b[38;5;241;43m.\u001b[39;49m\u001b[43m_accessor\u001b[49m\u001b[38;5;241;43m.\u001b[39;49m\u001b[43mopen\u001b[49m\u001b[43m(\u001b[49m\u001b[38;5;28;43mself\u001b[39;49m\u001b[43m,\u001b[49m\u001b[43m \u001b[49m\u001b[43mflags\u001b[49m\u001b[43m,\u001b[49m\u001b[43m \u001b[49m\u001b[43mmode\u001b[49m\u001b[43m)\u001b[49m\n",
      "\u001b[0;31mFileNotFoundError\u001b[0m: [Errno 2] No such file or directory: 'simulation_300K.traj'"
     ]
    }
   ],
   "source": [
    "traj = Trajectory('simulation_300K.traj')\n",
    "atoms = traj[0]\n",
    "NL = NeighborList(natural_cutoffs(atoms), self_interaction=False)\n",
    "NL.update(atoms)\n",
    "bonds = NL.get_connectivity_matrix().todense().nonzero()\n",
    "bonds = torch.tensor(bonds)\n",
    "bonds"
   ]
  },
  {
   "cell_type": "code",
   "execution_count": 40,
   "id": "c92fc665-b709-477d-83ba-b0a181864282",
   "metadata": {},
   "outputs": [],
   "source": [
    "def get_thermo(filename):\n",
    "    \"\"\"\n",
    "    read thermo logs.\n",
    "    \"\"\"\n",
    "    with open(filename, 'r') as f:\n",
    "        thermo = f.read().splitlines()\n",
    "        sim_time, Et, Ep, Ek, T = [], [], [], [], []\n",
    "        for i in range(1, len(thermo)):\n",
    "            try:\n",
    "                t, Etot, Epot, Ekin, Temp = [float(x) for x in thermo[i].split(' ') if x]\n",
    "                sim_time.append(t)\n",
    "                Et.append(Etot)\n",
    "                Ep.append(Epot)\n",
    "                Ek.append(Ekin)\n",
    "                T.append(Temp)\n",
    "            except:\n",
    "                sim_time, Et, Ep, Ek, T = [], [], [], [], []\n",
    "    thermo = {\n",
    "        'time': sim_time,\n",
    "        'Et': Et,\n",
    "        'Ep': Ep,\n",
    "        'Ek': Ek,\n",
    "        'T': T\n",
    "    }\n",
    "    return thermo\n",
    "\n",
    "def mae(x, y, factor):\n",
    "    return np.abs(x-y).mean() * factor\n",
    "\n",
    "def distance_pbc(x0, x1, lattices):\n",
    "    delta = torch.abs(x0 - x1)\n",
    "    lattices = lattices.view(-1,1,3)\n",
    "    delta = torch.where(delta > 0.5 * lattices, delta - lattices, delta)\n",
    "    return torch.sqrt((delta ** 2).sum(dim=-1))"
   ]
  },
  {
   "cell_type": "code",
   "execution_count": 68,
   "id": "bc515070-e901-4a16-8247-43b79eab6ba9",
   "metadata": {},
   "outputs": [],
   "source": [
    "def load_run(md_dir, xlim, bins, stability_threshold, gt_traj, hist_gt):\n",
    "    \"\"\"\n",
    "    md_dir: directory to the finished MD simulation.\n",
    "    \"\"\"\n",
    "    if not isinstance(md_dir, Path):\n",
    "        md_dir = Path(md_dir)\n",
    "    \n",
    "    #model_name = md_dir.parts[-2]\n",
    "    #seed = md_dir.parts[-1][-1]\n",
    "    run = {'name': 'tob',}\n",
    "    \n",
    "    # get bonds\n",
    "    traj = Trajectory(md_dir / 'simulation_300K.traj')\n",
    "    atoms = traj[0]\n",
    "    NL = NeighborList(natural_cutoffs(atoms), self_interaction=False)\n",
    "    NL.update(atoms)\n",
    "    bonds = NL.get_connectivity_matrix().todense().nonzero()\n",
    "    bonds = torch.tensor(bonds)\n",
    "    \n",
    "    # process trajectory\n",
    "    traj = [x.positions for x in traj]\n",
    "    run['traj'] = torch.from_numpy(np.stack(traj))\n",
    "    run['traj'] = torch.unique(run['traj'], dim=0) # remove repeated frames from restarting.\n",
    "\n",
    "    # load thermo log\n",
    "    run['thermo'] = get_thermo(md_dir / 'simulation_300K.log')\n",
    "    T = np.array(run['thermo']['T']) \n",
    "    collapse_pt = len(T)\n",
    "    md_time = np.array(run['thermo']['time'])\n",
    "    \n",
    "    # track stability\n",
    "    bond_lens = distance_pbc(\n",
    "        gt_traj[:, bonds[0]], gt_traj[:, bonds[1]], torch.FloatTensor([11.27, 7.40, 9.51]))\n",
    "    mean_bond_lens = bond_lens.mean(dim=0)\n",
    "    \n",
    "    for i in range(1, len(T)):\n",
    "        bond_lens = distance_pbc(\n",
    "            run['traj'][(i-1):i, bonds[0]], run['traj'][(i-1):i, bonds[1]], torch.FloatTensor([11.27, 7.40, 9.51]))\n",
    "        max_dev = (bond_lens[0] - mean_bond_lens).abs().min()\n",
    "        if  max_dev > stability_threshold:\n",
    "            collapse_pt = i\n",
    "            break\n",
    "    run['collapse_pt'] = collapse_pt\n",
    "    \n",
    "    # compute h(r)\n",
    "    hist_pred = get_hr(run['traj'][0:collapse_pt], bins)\n",
    "    hr_mae = mae(hist_pred, hist_gt, xlim)\n",
    "    run['hr'] = hist_pred\n",
    "    run['hr_error'] = hr_mae\n",
    "    \n",
    "    # load test metrics\n",
    "    if (md_dir / 'test_metric.json').exists():\n",
    "        test_metrics = get_test_metrics(md_dir)\n",
    "        run.update(test_metrics)\n",
    "    \n",
    "    return run"
   ]
  },
  {
   "cell_type": "code",
   "execution_count": 61,
   "id": "64356e8e-6097-42e3-8bed-e455996945da",
   "metadata": {},
   "outputs": [],
   "source": [
    "def get_hr(traj, bins):\n",
    "    \"\"\"\n",
    "    compute h(r) for MD17 simulations.\n",
    "    traj: T x N_atoms x 3\n",
    "    \"\"\"\n",
    "    pdist = torch.cdist(traj, traj).flatten()\n",
    "    hist, _ = np.histogram(pdist[:].flatten().numpy(), bins, density=True)\n",
    "    return hist"
   ]
  },
  {
   "cell_type": "code",
   "execution_count": 69,
   "id": "d4e08330-45ef-4736-93c0-0353d3408bca",
   "metadata": {},
   "outputs": [],
   "source": [
    "stability_threshold = 0.5\n",
    "xlim = 10\n",
    "n_bins = 500\n",
    "bins = np.linspace(1e-6, xlim, n_bins + 1) # for computing h(r)\n",
    "\n",
    "gt_data = np.load('tob9.npz')\n",
    "gt_traj = torch.FloatTensor(gt_data.f.R)\n",
    "hist_gt= get_hr(gt_traj, bins)\n",
    "md_dir = './'\n",
    "\n",
    "run = load_run(md_dir, xlim, bins, stability_threshold, gt_traj, hist_gt)"
   ]
  },
  {
   "cell_type": "code",
   "execution_count": 70,
   "id": "4a20abcc-083f-4b58-9e00-84174b79e814",
   "metadata": {},
   "outputs": [
    {
     "name": "stdout",
     "output_type": "stream",
     "text": [
      "stability: 5.0 ps \n",
      "h(r) mae: 0.08\n"
     ]
    }
   ],
   "source": [
    "collapse_ps = (run['collapse_pt']-1) / 20\n",
    "hr_mae = run['hr_error']\n",
    "\n",
    "print(f'stability: {collapse_ps:.1f} ps \\nh(r) mae: {hr_mae:.2f}')"
   ]
  }
 ],
 "metadata": {
  "kernelspec": {
   "display_name": "schnet",
   "language": "python",
   "name": "schnet"
  },
  "language_info": {
   "codemirror_mode": {
    "name": "ipython",
    "version": 3
   },
   "file_extension": ".py",
   "mimetype": "text/x-python",
   "name": "python",
   "nbconvert_exporter": "python",
   "pygments_lexer": "ipython3",
   "version": "3.8.18"
  }
 },
 "nbformat": 4,
 "nbformat_minor": 5
}
