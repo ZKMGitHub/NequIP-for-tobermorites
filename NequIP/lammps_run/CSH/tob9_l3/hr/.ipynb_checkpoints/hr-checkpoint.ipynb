{
 "cells": [
  {
   "cell_type": "code",
   "execution_count": 32,
   "id": "e40f87ff-6652-4889-a443-7b2666ca6986",
   "metadata": {},
   "outputs": [],
   "source": [
    "from ase.io import read,Trajectory\n",
    "from ase.neighborlist import natural_cutoffs, NeighborList\n",
    "import torch\n",
    "import numpy as np\n",
    "from pathlib import Path"
   ]
  },
  {
   "cell_type": "code",
   "execution_count": 33,
   "id": "5ea648a7-3727-4745-aa49-9c50b741ffdf",
   "metadata": {},
   "outputs": [
    {
     "data": {
      "text/plain": [
       "tensor([[ 0,  0,  0,  0,  0,  0,  0,  0,  0,  0,  1,  1,  1,  1,  1,  1,  1,  1,\n",
       "          1,  2,  2,  2,  2,  2,  2,  3,  3,  3,  3,  3,  3,  3,  3,  3,  3,  3,\n",
       "          3,  3,  3,  4,  4,  4,  4,  4,  4,  4,  4,  5,  5,  5,  5,  5,  5,  5,\n",
       "          5,  5,  6,  6,  6,  6,  6,  6,  6,  6,  6,  7,  7,  7,  7,  7,  7,  7,\n",
       "          7,  7,  8,  8,  8,  8,  8,  8,  8,  8,  9,  9,  9,  9,  9,  9,  9,  9,\n",
       "          9,  9,  9,  9,  9,  9, 10, 10, 10, 10, 10, 11, 11, 11, 11, 12, 12, 12,\n",
       "         12, 13, 13, 13, 13, 14, 14, 14, 14, 15, 15, 15, 15, 16, 16, 16, 16, 16,\n",
       "         17, 17, 17, 17, 17, 18, 18, 19, 19, 19, 19, 20, 20, 20, 21, 21, 21, 21,\n",
       "         22, 22, 22, 23, 23, 29, 31, 32, 32, 40, 40, 41, 46, 47, 47, 49, 50, 50,\n",
       "         54, 57, 59],\n",
       "        [ 1, 10, 20, 21, 26, 27, 30, 53, 56, 57,  2,  4, 13, 20, 24, 25, 30, 33,\n",
       "         34, 14, 24, 25, 29, 33, 34,  1,  2,  4,  5, 14, 16, 17, 31, 32, 33, 35,\n",
       "         40, 41, 44,  2, 11, 15, 31, 34, 36, 41, 43,  6, 15, 16, 35, 38, 39, 44,\n",
       "         45, 48,  7, 14, 15, 19, 42, 43, 48, 51, 52,  6,  8, 20, 21, 42, 43, 47,\n",
       "         51, 52,  6,  9, 18, 20, 23, 49, 52, 53,  2,  6,  7,  8, 16, 17, 21, 22,\n",
       "         23, 25, 49, 50, 51, 54,  1,  4, 26, 27, 32,  2, 26, 28, 31, 27, 28, 29,\n",
       "         35, 30, 36, 37, 38, 33, 37, 39, 42, 34, 38, 39, 43,  6, 41, 44, 45, 49,\n",
       "          7, 40, 44, 46, 50, 45, 53, 48, 54, 55, 56, 24, 52, 55, 25, 51, 56, 57,\n",
       "          1,  8, 10,  2, 11, 58,  2,  1,  4,  4,  7,  6, 18, 18, 60,  6,  7,  8,\n",
       "         61, 20, 36]])"
      ]
     },
     "execution_count": 33,
     "metadata": {},
     "output_type": "execute_result"
    }
   ],
   "source": [
    "traj = Trajectory('simulation_300K.traj')\n",
    "atoms = traj[0]\n",
    "NL = NeighborList(natural_cutoffs(atoms), self_interaction=False)\n",
    "NL.update(atoms)\n",
    "bonds = NL.get_connectivity_matrix().todense().nonzero()\n",
    "bonds = torch.tensor(bonds)\n",
    "bonds"
   ]
  },
  {
   "cell_type": "code",
   "execution_count": 40,
   "id": "c92fc665-b709-477d-83ba-b0a181864282",
   "metadata": {},
   "outputs": [],
   "source": [
    "def get_thermo(filename):\n",
    "    \"\"\"\n",
    "    read thermo logs.\n",
    "    \"\"\"\n",
    "    with open(filename, 'r') as f:\n",
    "        thermo = f.read().splitlines()\n",
    "        sim_time, Et, Ep, Ek, T = [], [], [], [], []\n",
    "        for i in range(1, len(thermo)):\n",
    "            try:\n",
    "                t, Etot, Epot, Ekin, Temp = [float(x) for x in thermo[i].split(' ') if x]\n",
    "                sim_time.append(t)\n",
    "                Et.append(Etot)\n",
    "                Ep.append(Epot)\n",
    "                Ek.append(Ekin)\n",
    "                T.append(Temp)\n",
    "            except:\n",
    "                sim_time, Et, Ep, Ek, T = [], [], [], [], []\n",
    "    thermo = {\n",
    "        'time': sim_time,\n",
    "        'Et': Et,\n",
    "        'Ep': Ep,\n",
    "        'Ek': Ek,\n",
    "        'T': T\n",
    "    }\n",
    "    return thermo\n",
    "\n",
    "def mae(x, y, factor):\n",
    "    return np.abs(x-y).mean() * factor\n",
    "\n",
    "def distance_pbc(x0, x1, lattices):\n",
    "    delta = torch.abs(x0 - x1)\n",
    "    lattices = lattices.view(-1,1,3)\n",
    "    delta = torch.where(delta > 0.5 * lattices, delta - lattices, delta)\n",
    "    return torch.sqrt((delta ** 2).sum(dim=-1))"
   ]
  },
  {
   "cell_type": "code",
   "execution_count": 65,
   "id": "bc515070-e901-4a16-8247-43b79eab6ba9",
   "metadata": {},
   "outputs": [],
   "source": [
    "def load_run(md_dir, xlim, bins, stability_threshold, gt_traj, hist_gt):\n",
    "    \"\"\"\n",
    "    md_dir: directory to the finished MD simulation.\n",
    "    \"\"\"\n",
    "    if not isinstance(md_dir, Path):\n",
    "        md_dir = Path(md_dir)\n",
    "    \n",
    "    #model_name = md_dir.parts[-2]\n",
    "    #seed = md_dir.parts[-1][-1]\n",
    "    run = {'name': 'tob',}\n",
    "    \n",
    "    # get bonds\n",
    "    traj = Trajectory(md_dir / 'simulation_300K.traj')\n",
    "    atoms = traj[0]\n",
    "    NL = NeighborList(natural_cutoffs(atoms), self_interaction=False)\n",
    "    NL.update(atoms)\n",
    "    bonds = NL.get_connectivity_matrix().todense().nonzero()\n",
    "    bonds = torch.tensor(bonds)\n",
    "    \n",
    "    # process trajectory\n",
    "    traj = [x.positions for x in traj]\n",
    "    run['traj'] = torch.from_numpy(np.stack(traj))\n",
    "    run['traj'] = torch.unique(run['traj'], dim=0) # remove repeated frames from restarting.\n",
    "\n",
    "    # load thermo log\n",
    "    run['thermo'] = get_thermo(md_dir / 'simulation_300K.log')\n",
    "    T = np.array(run['thermo']['T']) \n",
    "    collapse_pt = len(T)\n",
    "    md_time = np.array(run['thermo']['time'])\n",
    "    \n",
    "    # track stability\n",
    "    bond_lens = distance_pbc(\n",
    "        gt_traj[:, bonds[0]], gt_traj[:, bonds[1]], torch.FloatTensor([11.27, 7.40, 9.51]))\n",
    "    mean_bond_lens = bond_lens.mean(dim=0)\n",
    "    \n",
    "    for i in range(1, len(T)):\n",
    "        bond_lens = distance_pbc(\n",
    "            run['traj'][(i-1):i, bonds[0]], run['traj'][(i-1):i, bonds[1]], torch.FloatTensor([11.27, 7.40, 9.51]))\n",
    "        max_dev = (bond_lens[0] - mean_bond_lens).abs().max()\n",
    "        if  max_dev > stability_threshold:\n",
    "            collapse_pt = i\n",
    "            break\n",
    "    run['collapse_pt'] = collapse_pt\n",
    "    \n",
    "    # compute h(r)\n",
    "    hist_pred = get_hr(run['traj'][0:collapse_pt], bins)\n",
    "    hr_mae = mae(hist_pred, hist_gt, xlim)\n",
    "    run['hr'] = hist_pred\n",
    "    run['hr_error'] = hr_mae\n",
    "    \n",
    "    # load test metrics\n",
    "    if (md_dir / 'test_metric.json').exists():\n",
    "        test_metrics = get_test_metrics(md_dir)\n",
    "        run.update(test_metrics)\n",
    "    \n",
    "    return run"
   ]
  },
  {
   "cell_type": "code",
   "execution_count": 61,
   "id": "64356e8e-6097-42e3-8bed-e455996945da",
   "metadata": {},
   "outputs": [],
   "source": [
    "def get_hr(traj, bins):\n",
    "    \"\"\"\n",
    "    compute h(r) for MD17 simulations.\n",
    "    traj: T x N_atoms x 3\n",
    "    \"\"\"\n",
    "    pdist = torch.cdist(traj, traj).flatten()\n",
    "    hist, _ = np.histogram(pdist[:].flatten().numpy(), bins, density=True)\n",
    "    return hist"
   ]
  },
  {
   "cell_type": "code",
   "execution_count": 66,
   "id": "d4e08330-45ef-4736-93c0-0353d3408bca",
   "metadata": {},
   "outputs": [],
   "source": [
    "stability_threshold = 0.5\n",
    "xlim = 10\n",
    "n_bins = 500\n",
    "bins = np.linspace(1e-6, xlim, n_bins + 1) # for computing h(r)\n",
    "\n",
    "gt_data = np.load('tob9.npz')\n",
    "gt_traj = torch.FloatTensor(gt_data.f.R)\n",
    "hist_gt= get_hr(gt_traj, bins)\n",
    "md_dir = './'\n",
    "\n",
    "run = load_run(md_dir, xlim, bins, stability_threshold, gt_traj, hist_gt)"
   ]
  },
  {
   "cell_type": "code",
   "execution_count": 67,
   "id": "4a20abcc-083f-4b58-9e00-84174b79e814",
   "metadata": {},
   "outputs": [
    {
     "name": "stdout",
     "output_type": "stream",
     "text": [
      "stability: 0.0 ps \n",
      "h(r) mae: 0.38\n"
     ]
    }
   ],
   "source": [
    "collapse_ps = (run['collapse_pt']-1) / 20\n",
    "hr_mae = run['hr_error']\n",
    "\n",
    "print(f'stability: {collapse_ps:.1f} ps \\nh(r) mae: {hr_mae:.2f}')"
   ]
  }
 ],
 "metadata": {
  "kernelspec": {
   "display_name": "schnet",
   "language": "python",
   "name": "schnet"
  },
  "language_info": {
   "codemirror_mode": {
    "name": "ipython",
    "version": 3
   },
   "file_extension": ".py",
   "mimetype": "text/x-python",
   "name": "python",
   "nbconvert_exporter": "python",
   "pygments_lexer": "ipython3",
   "version": "3.8.18"
  }
 },
 "nbformat": 4,
 "nbformat_minor": 5
}
