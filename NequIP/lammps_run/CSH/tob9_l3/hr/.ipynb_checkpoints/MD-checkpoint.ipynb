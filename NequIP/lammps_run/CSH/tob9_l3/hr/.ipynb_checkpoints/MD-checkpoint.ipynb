{
 "cells": [
  {
   "cell_type": "code",
   "execution_count": 1,
   "id": "99a47210-65cc-4d4c-af1c-c1436fd5927c",
   "metadata": {},
   "outputs": [
    {
     "name": "stdout",
     "output_type": "stream",
     "text": [
      "Requirement already satisfied: wandb in /home/zkm/.local/lib/python3.9/site-packages (0.12.17)\n",
      "Requirement already satisfied: Click!=8.0.0,>=7.0 in /home/zkm/.local/lib/python3.9/site-packages (from wandb) (8.0.4)\n",
      "Requirement already satisfied: GitPython>=1.0.0 in /home/zkm/.local/lib/python3.9/site-packages (from wandb) (3.1.42)\n",
      "Requirement already satisfied: python-dateutil>=2.6.1 in /home/zkm/.local/lib/python3.9/site-packages (from wandb) (2.9.0.post0)\n",
      "Requirement already satisfied: requests<3,>=2.0.0 in /home/zkm/anaconda3/envs/nequip_ase/lib/python3.9/site-packages (from wandb) (2.31.0)\n",
      "Requirement already satisfied: promise<3,>=2.0 in /home/zkm/.local/lib/python3.9/site-packages (from wandb) (2.3)\n",
      "Requirement already satisfied: shortuuid>=0.5.0 in /home/zkm/.local/lib/python3.9/site-packages (from wandb) (1.0.13)\n",
      "Requirement already satisfied: psutil>=5.0.0 in /home/zkm/.local/lib/python3.9/site-packages (from wandb) (5.9.8)\n",
      "Requirement already satisfied: sentry-sdk>=1.0.0 in /home/zkm/.local/lib/python3.9/site-packages (from wandb) (1.44.0)\n",
      "Requirement already satisfied: six>=1.13.0 in /home/zkm/.local/lib/python3.9/site-packages (from wandb) (1.16.0)\n",
      "Requirement already satisfied: docker-pycreds>=0.4.0 in /home/zkm/.local/lib/python3.9/site-packages (from wandb) (0.4.0)\n",
      "Requirement already satisfied: protobuf<4.0dev,>=3.12.0 in /home/zkm/.local/lib/python3.9/site-packages (from wandb) (3.20.3)\n",
      "Requirement already satisfied: PyYAML in /home/zkm/.local/lib/python3.9/site-packages (from wandb) (6.0)\n",
      "Requirement already satisfied: pathtools in /home/zkm/.local/lib/python3.9/site-packages (from wandb) (0.1.2)\n",
      "Requirement already satisfied: setproctitle in /home/zkm/.local/lib/python3.9/site-packages (from wandb) (1.3.3)\n",
      "Requirement already satisfied: setuptools in /home/zkm/.local/lib/python3.9/site-packages (from wandb) (61.3.1)\n",
      "Requirement already satisfied: gitdb<5,>=4.0.1 in /home/zkm/.local/lib/python3.9/site-packages (from GitPython>=1.0.0->wandb) (4.0.11)\n",
      "Requirement already satisfied: charset-normalizer<4,>=2 in /home/zkm/anaconda3/envs/nequip_ase/lib/python3.9/site-packages (from requests<3,>=2.0.0->wandb) (3.3.2)\n",
      "Requirement already satisfied: idna<4,>=2.5 in /home/zkm/.local/lib/python3.9/site-packages (from requests<3,>=2.0.0->wandb) (3.6)\n",
      "Requirement already satisfied: urllib3<3,>=1.21.1 in /home/zkm/anaconda3/envs/nequip_ase/lib/python3.9/site-packages (from requests<3,>=2.0.0->wandb) (2.2.1)\n",
      "Requirement already satisfied: certifi>=2017.4.17 in /home/zkm/anaconda3/envs/nequip_ase/lib/python3.9/site-packages (from requests<3,>=2.0.0->wandb) (2024.2.2)\n",
      "Requirement already satisfied: smmap<6,>=3.0.1 in /home/zkm/.local/lib/python3.9/site-packages (from gitdb<5,>=4.0.1->GitPython>=1.0.0->wandb) (5.0.1)\n",
      "Cloning into 'nequip'...\n",
      "remote: Enumerating objects: 197, done.\u001b[K\n",
      "remote: Counting objects: 100% (197/197), done.\u001b[K\n",
      "remote: Compressing objects: 100% (182/182), done.\u001b[K\n",
      "remote: Total 197 (delta 5), reused 76 (delta 0), pack-reused 0\u001b[K\n",
      "Receiving objects: 100% (197/197), 253.62 KiB | 10.00 KiB/s, done.\n",
      "Resolving deltas: 100% (5/5), done.\n",
      "Processing ./nequip\n",
      "  Preparing metadata (setup.py) ... \u001b[?25ldone\n",
      "\u001b[?25hRequirement already satisfied: numpy in /home/zkm/anaconda3/envs/nequip_ase/lib/python3.9/site-packages (from nequip==0.5.6) (1.26.4)\n",
      "Requirement already satisfied: ase in /home/zkm/.local/lib/python3.9/site-packages (from nequip==0.5.6) (3.23.0b1)\n",
      "Requirement already satisfied: tqdm in /home/zkm/.local/lib/python3.9/site-packages (from nequip==0.5.6) (4.63.1)\n",
      "Requirement already satisfied: torch!=1.9.0,<1.13,>=1.10.0 in /home/zkm/anaconda3/envs/nequip_ase/lib/python3.9/site-packages (from nequip==0.5.6) (1.10.1)\n",
      "Collecting e3nn<0.6.0,>=0.4.4 (from nequip==0.5.6)\n",
      "  Using cached e3nn-0.5.1-py3-none-any.whl.metadata (5.7 kB)\n",
      "Requirement already satisfied: pyyaml in /home/zkm/.local/lib/python3.9/site-packages (from nequip==0.5.6) (6.0)\n",
      "Collecting torch-runstats>=0.2.0 (from nequip==0.5.6)\n",
      "  Using cached torch_runstats-0.2.0-py3-none-any.whl.metadata (2.5 kB)\n",
      "Collecting torch-ema>=0.3.0 (from nequip==0.5.6)\n",
      "  Using cached torch_ema-0.3-py3-none-any.whl.metadata (415 bytes)\n",
      "Requirement already satisfied: sympy in /home/zkm/.local/lib/python3.9/site-packages (from e3nn<0.6.0,>=0.4.4->nequip==0.5.6) (1.7.1)\n",
      "Requirement already satisfied: scipy in /home/zkm/anaconda3/envs/nequip_ase/lib/python3.9/site-packages (from e3nn<0.6.0,>=0.4.4->nequip==0.5.6) (1.13.0)\n",
      "Collecting opt-einsum-fx>=0.1.4 (from e3nn<0.6.0,>=0.4.4->nequip==0.5.6)\n",
      "  Using cached opt_einsum_fx-0.1.4-py3-none-any.whl.metadata (3.3 kB)\n",
      "Requirement already satisfied: typing_extensions in /home/zkm/anaconda3/envs/nequip_ase/lib/python3.9/site-packages (from torch!=1.9.0,<1.13,>=1.10.0->nequip==0.5.6) (4.11.0)\n",
      "Requirement already satisfied: matplotlib>=3.3.4 in /home/zkm/.local/lib/python3.9/site-packages (from ase->nequip==0.5.6) (3.8.3)\n",
      "Requirement already satisfied: contourpy>=1.0.1 in /home/zkm/.local/lib/python3.9/site-packages (from matplotlib>=3.3.4->ase->nequip==0.5.6) (1.2.0)\n",
      "Requirement already satisfied: cycler>=0.10 in /home/zkm/.local/lib/python3.9/site-packages (from matplotlib>=3.3.4->ase->nequip==0.5.6) (0.12.1)\n",
      "Requirement already satisfied: fonttools>=4.22.0 in /home/zkm/.local/lib/python3.9/site-packages (from matplotlib>=3.3.4->ase->nequip==0.5.6) (4.50.0)\n",
      "Requirement already satisfied: kiwisolver>=1.3.1 in /home/zkm/.local/lib/python3.9/site-packages (from matplotlib>=3.3.4->ase->nequip==0.5.6) (1.4.5)\n",
      "Requirement already satisfied: packaging>=20.0 in /home/zkm/.local/lib/python3.9/site-packages (from matplotlib>=3.3.4->ase->nequip==0.5.6) (24.0)\n",
      "Requirement already satisfied: pillow>=8 in /home/zkm/.local/lib/python3.9/site-packages (from matplotlib>=3.3.4->ase->nequip==0.5.6) (10.2.0)\n",
      "Requirement already satisfied: pyparsing>=2.3.1 in /home/zkm/.local/lib/python3.9/site-packages (from matplotlib>=3.3.4->ase->nequip==0.5.6) (3.1.2)\n",
      "Requirement already satisfied: python-dateutil>=2.7 in /home/zkm/.local/lib/python3.9/site-packages (from matplotlib>=3.3.4->ase->nequip==0.5.6) (2.9.0.post0)\n",
      "Requirement already satisfied: importlib-resources>=3.2.0 in /home/zkm/.local/lib/python3.9/site-packages (from matplotlib>=3.3.4->ase->nequip==0.5.6) (6.4.0)\n",
      "Collecting opt-einsum (from opt-einsum-fx>=0.1.4->e3nn<0.6.0,>=0.4.4->nequip==0.5.6)\n",
      "  Using cached opt_einsum-3.3.0-py3-none-any.whl.metadata (6.5 kB)\n",
      "Requirement already satisfied: mpmath>=0.19 in /home/zkm/.local/lib/python3.9/site-packages (from sympy->e3nn<0.6.0,>=0.4.4->nequip==0.5.6) (1.3.0)\n",
      "Requirement already satisfied: zipp>=3.1.0 in /home/zkm/.local/lib/python3.9/site-packages (from importlib-resources>=3.2.0->matplotlib>=3.3.4->ase->nequip==0.5.6) (3.18.1)\n",
      "Requirement already satisfied: six>=1.5 in /home/zkm/.local/lib/python3.9/site-packages (from python-dateutil>=2.7->matplotlib>=3.3.4->ase->nequip==0.5.6) (1.16.0)\n",
      "Using cached e3nn-0.5.1-py3-none-any.whl (118 kB)\n",
      "Using cached torch_ema-0.3-py3-none-any.whl (5.5 kB)\n",
      "Using cached torch_runstats-0.2.0-py3-none-any.whl (8.1 kB)\n",
      "Using cached opt_einsum_fx-0.1.4-py3-none-any.whl (13 kB)\n",
      "Using cached opt_einsum-3.3.0-py3-none-any.whl (65 kB)\n",
      "Building wheels for collected packages: nequip\n",
      "  Building wheel for nequip (setup.py) ... \u001b[?25ldone\n",
      "\u001b[?25h  Created wheel for nequip: filename=nequip-0.5.6-py3-none-any.whl size=145587 sha256=fd136cc27c48c90268b78a15a5f4be6bdcc3bc49dc9ede5d879414f5cb139346\n",
      "  Stored in directory: /tmp/pip-ephem-wheel-cache-f5qpho8g/wheels/8f/6d/0c/a6c3f2d74c231103c1555c23c89303a892cc49f36bc8906403\n",
      "Successfully built nequip\n",
      "Installing collected packages: torch-runstats, opt-einsum, torch-ema, opt-einsum-fx, e3nn, nequip\n",
      "Successfully installed e3nn-0.5.1 nequip-0.5.6 opt-einsum-3.3.0 opt-einsum-fx-0.1.4 torch-ema-0.3 torch-runstats-0.2.0\n"
     ]
    },
    {
     "name": "stderr",
     "output_type": "stream",
     "text": [
      "/home/zkm/.local/lib/python3.9/site-packages/tqdm/auto.py:22: TqdmWarning: IProgress not found. Please update jupyter and ipywidgets. See https://ipywidgets.readthedocs.io/en/stable/user_install.html\n",
      "  from .autonotebook import tqdm as notebook_tqdm\n"
     ]
    },
    {
     "data": {
      "text/plain": [
       "<torch._C.Generator at 0x7fb20445cdb0>"
      ]
     },
     "execution_count": 1,
     "metadata": {},
     "output_type": "execute_result"
    }
   ],
   "source": [
    "# install wandb\n",
    "!pip install wandb\n",
    "# install nequip\n",
    "!git clone --depth 1 \"https://github.com/mir-group/nequip.git\"\n",
    "!pip install nequip/\n",
    "# fix colab imports\n",
    "import site\n",
    "site.main()\n",
    "# set to allow anonymous WandB\n",
    "import os\n",
    "os.environ[\"WANDB_ANONYMOUS\"] = \"must\"\n",
    "import numpy as np\n",
    "import torch \n",
    "from ase.io import read, write\n",
    "np.random.seed(0)\n",
    "torch.manual_seed(0)"
   ]
  },
  {
   "cell_type": "code",
   "execution_count": 2,
   "id": "8ec52101-52bc-49f5-ab58-4aa389f3a145",
   "metadata": {},
   "outputs": [],
   "source": [
    "from typing import Union\n",
    "import torch\n",
    "\n",
    "from ase.calculators.calculator import Calculator, all_changes\n",
    "from ase.stress import full_3x3_to_voigt_6_stress\n",
    "from nequip.ase import NequIPCalculator\n",
    "from ase import Atoms, io\n",
    "import torch\n",
    "#from nequip.dynamics.nequip_calculator import NequIPCalculator\n",
    "from nequip.ase import NequIPCalculator\n",
    "from ase.io import read, write\n",
    "import os\n",
    "from ase.calculators.calculator import Calculator, all_changes\n",
    "import nequip.scripts.deploy"
   ]
  },
  {
   "cell_type": "code",
   "execution_count": null,
   "id": "e9783e8c-db1f-4443-a17f-a71362668aba",
   "metadata": {},
   "outputs": [],
   "source": [
    "calculator = NequIPCalculator.from_deployed_model(\n",
    "    model_path=\"./tob9_l3-deployed.pth\",\n",
    ")"
   ]
  }
 ],
 "metadata": {
  "kernelspec": {
   "display_name": "nequip",
   "language": "python",
   "name": "nequip"
  },
  "language_info": {
   "codemirror_mode": {
    "name": "ipython",
    "version": 3
   },
   "file_extension": ".py",
   "mimetype": "text/x-python",
   "name": "python",
   "nbconvert_exporter": "python",
   "pygments_lexer": "ipython3",
   "version": "3.9.19"
  }
 },
 "nbformat": 4,
 "nbformat_minor": 5
}
